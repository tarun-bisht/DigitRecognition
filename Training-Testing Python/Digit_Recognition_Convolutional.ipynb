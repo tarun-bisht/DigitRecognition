{
  "nbformat": 4,
  "nbformat_minor": 0,
  "metadata": {
    "colab": {
      "name": "Digit Recognition Convolutional.ipynb",
      "version": "0.3.2",
      "provenance": [],
      "collapsed_sections": []
    },
    "kernelspec": {
      "name": "python3",
      "display_name": "Python 3"
    }
  },
  "cells": [
    {
      "cell_type": "code",
      "metadata": {
        "id": "1dL4LS8-qyWY",
        "colab_type": "code",
        "colab": {}
      },
      "source": [
        "import tensorflow as tf\n",
        "import numpy as np\n",
        "import matplotlib.pyplot as plt\n",
        "mnist=tf.keras.datasets.mnist\n",
        "(x_train,y_train),(x_test,y_test)=mnist.load_data()"
      ],
      "execution_count": 0,
      "outputs": []
    },
    {
      "cell_type": "code",
      "metadata": {
        "id": "ktVYKUgYlCOP",
        "colab_type": "code",
        "colab": {}
      },
      "source": [
        "if tf.keras.backend.image_data_format() == 'channels_first':\n",
        "    x_train = x_train.reshape(x_train.shape[0], 1, x_train.shape[1],x_train.shape[2])\n",
        "    x_test = x_test.reshape(x_test.shape[0], 1, x_train.shape[1],x_train.shape[2])\n",
        "    input_shape = (1, x_train.shape[1],x_train.shape[2])\n",
        "else:\n",
        "    x_train = x_train.reshape(x_train.shape[0], x_train.shape[1],x_train.shape[2], 1)\n",
        "    x_test = x_test.reshape(x_test.shape[0], x_train.shape[1],x_train.shape[2], 1)\n",
        "    input_shape = (x_train.shape[1],x_train.shape[2], 1)"
      ],
      "execution_count": 0,
      "outputs": []
    },
    {
      "cell_type": "code",
      "metadata": {
        "id": "0U52DON5rD2H",
        "colab_type": "code",
        "outputId": "9aa63c9a-671c-4d30-8dd8-c846a4880636",
        "colab": {
          "base_uri": "https://localhost:8080/",
          "height": 773
        }
      },
      "source": [
        "for i in range(3):\n",
        "    plt.imshow(x_train[i].reshape(28,28))\n",
        "    plt.show()"
      ],
      "execution_count": 0,
      "outputs": [
        {
          "output_type": "display_data",
          "data": {
            "image/png": "[encoded data removed]",
            "text/plain": [
              "<Figure size 432x288 with 1 Axes>"
            ]
          },
          "metadata": {
            "tags": []
          }
        },
        {
          "output_type": "display_data",
          "data": {
            "image/png": "[encoded data removed]",
            "text/plain": [
              "<Figure size 432x288 with 1 Axes>"
            ]
          },
          "metadata": {
            "tags": []
          }
        },
        {
          "output_type": "display_data",
          "data": {
            "image/png": "[encoded data removed]",
            "text/plain": [
              "<Figure size 432x288 with 1 Axes>"
            ]
          },
          "metadata": {
            "tags": []
          }
        }
      ]
    },
    {
      "cell_type": "code",
      "metadata": {
        "id": "5JrxysnBrHB-",
        "colab_type": "code",
        "colab": {}
      },
      "source": [
        "x_train = x_train.astype('float32')\n",
        "x_test = x_test.astype('float32')\n",
        "x_train=x_train/255\n",
        "x_test=x_test/255\n",
        "y_train=tf.keras.utils.to_categorical(y_train,10)\n",
        "y_test=tf.keras.utils.to_categorical(y_test,10)"
      ],
      "execution_count": 0,
      "outputs": []
    },
    {
      "cell_type": "code",
      "metadata": {
        "id": "Ly1M7VtRrNBx",
        "colab_type": "code",
        "colab": {}
      },
      "source": [
        "model=tf.keras.models.Sequential()\n",
        "##Hidden Layers with activation function RELU and size 16\n",
        "model.add(tf.keras.layers.Conv2D(32,(5,5),input_shape=input_shape,activation=tf.nn.relu))\n",
        "model.add(tf.keras.layers.MaxPooling2D(pool_size=(3, 3)))\n",
        "model.add(tf.keras.layers.Conv2D(32,(2,2),activation=tf.nn.relu))\n",
        "model.add(tf.keras.layers.MaxPooling2D(pool_size=(2, 2)))\n",
        "model.add(tf.keras.layers.Dropout(0.2))\n",
        "model.add(tf.keras.layers.Flatten())\n",
        "model.add(tf.keras.layers.Dense(128,activation=tf.nn.relu))\n",
        "##Output Layer with activation softmax and size 10 for 10 digits recognition\n",
        "model.add(tf.keras.layers.Dense(10,activation=tf.nn.softmax))"
      ],
      "execution_count": 0,
      "outputs": []
    },
    {
      "cell_type": "code",
      "metadata": {
        "id": "LTJgJOVpvjFI",
        "colab_type": "code",
        "colab": {}
      },
      "source": [
        "model.compile(optimizer='adam',loss='categorical_crossentropy',metrics=['accuracy'])"
      ],
      "execution_count": 0,
      "outputs": []
    },
    {
      "cell_type": "code",
      "metadata": {
        "id": "gF4ZbpWnvyDb",
        "colab_type": "code",
        "outputId": "c04aba83-620f-4d13-845c-7450d0af979c",
        "colab": {
          "base_uri": "https://localhost:8080/",
          "height": 374
        }
      },
      "source": [
        "model.fit(x_train,y_train,epochs=10)"
      ],
      "execution_count": 0,
      "outputs": [
        {
          "output_type": "stream",
          "text": [
            "Epoch 1/10\n",
            "60000/60000 [==============================] - 36s 606us/sample - loss: 0.2232 - accuracy: 0.9316\n",
            "Epoch 2/10\n",
            "60000/60000 [==============================] - 36s 607us/sample - loss: 0.0782 - accuracy: 0.9758\n",
            "Epoch 3/10\n",
            "60000/60000 [==============================] - 36s 602us/sample - loss: 0.0596 - accuracy: 0.9813\n",
            "Epoch 4/10\n",
            "60000/60000 [==============================] - 36s 604us/sample - loss: 0.0480 - accuracy: 0.9847\n",
            "Epoch 5/10\n",
            "60000/60000 [==============================] - 38s 626us/sample - loss: 0.0432 - accuracy: 0.9862\n",
            "Epoch 6/10\n",
            "60000/60000 [==============================] - 38s 639us/sample - loss: 0.0376 - accuracy: 0.9880\n",
            "Epoch 7/10\n",
            "60000/60000 [==============================] - 36s 597us/sample - loss: 0.0325 - accuracy: 0.9896\n",
            "Epoch 8/10\n",
            "60000/60000 [==============================] - 36s 607us/sample - loss: 0.0307 - accuracy: 0.9902\n",
            "Epoch 9/10\n",
            "60000/60000 [==============================] - 36s 605us/sample - loss: 0.0283 - accuracy: 0.9911\n",
            "Epoch 10/10\n",
            "60000/60000 [==============================] - 36s 606us/sample - loss: 0.0265 - accuracy: 0.9912\n"
          ],
          "name": "stdout"
        },
        {
          "output_type": "execute_result",
          "data": {
            "text/plain": [
              "<tensorflow.python.keras.callbacks.History at 0x7fb3ffe8ebe0>"
            ]
          },
          "metadata": {
            "tags": []
          },
          "execution_count": 18
        }
      ]
    },
    {
      "cell_type": "code",
      "metadata": {
        "id": "tGNRV3pzFqRa",
        "colab_type": "code",
        "outputId": "0f3dccf7-b498-4110-a222-0abe67fa370c",
        "colab": {
          "base_uri": "https://localhost:8080/",
          "height": 68
        }
      },
      "source": [
        "val_loss,val_acc=model.evaluate(x_test,y_test)\n",
        "print(val_loss)\n",
        "print(val_acc)"
      ],
      "execution_count": 0,
      "outputs": [
        {
          "output_type": "stream",
          "text": [
            "10000/10000 [==============================] - 2s 244us/sample - loss: 0.0213 - accuracy: 0.9939\n",
            "0.021331036648963346\n",
            "0.9939\n"
          ],
          "name": "stdout"
        }
      ]
    },
    {
      "cell_type": "code",
      "metadata": {
        "id": "MjYqtvQ2FyJO",
        "colab_type": "code",
        "colab": {}
      },
      "source": [
        "prediction=model.predict(x_test)"
      ],
      "execution_count": 0,
      "outputs": []
    },
    {
      "cell_type": "code",
      "metadata": {
        "id": "J0cOiL2KF7Vs",
        "colab_type": "code",
        "outputId": "a6c45834-8e14-4adf-9ae6-cf4663b563a5",
        "colab": {
          "base_uri": "https://localhost:8080/",
          "height": 3081
        }
      },
      "source": [
        "##Showing Handwritten digit image with prediction\n",
        "for i in range(10):\n",
        "    plt.imshow(x_test[i].reshape(28,28))\n",
        "    print(prediction[i])\n",
        "    num=np.argmax(prediction[i])\n",
        "    print(num)\n",
        "    plt.show()"
      ],
      "execution_count": 0,
      "outputs": [
        {
          "output_type": "stream",
          "text": [
            "[4.72098249e-10 3.07094927e-09 4.68298913e-06 2.16135962e-08\n",
            " 1.17090392e-13 5.80817394e-09 9.23680495e-17 9.99995351e-01\n",
            " 2.22822732e-10 1.45665595e-08]\n",
            "7\n"
          ],
          "name": "stdout"
        },
        {
          "output_type": "display_data",
          "data": {
            "image/png": "[encoded data removed]",
            "text/plain": [
              "<Figure size 432x288 with 1 Axes>"
            ]
          },
          "metadata": {
            "tags": []
          }
        },
        {
          "output_type": "stream",
          "text": [
            "[8.5752495e-11 6.2075905e-08 9.9999988e-01 1.5857654e-11 5.1409410e-10\n",
            " 1.2021201e-13 1.2006515e-09 1.6891939e-12 9.0187992e-13 1.9134421e-13]\n",
            "2\n"
          ],
          "name": "stdout"
        },
        {
          "output_type": "display_data",
          "data": {
            "image/png": "[encoded data removed]",
            "text/plain": [
              "<Figure size 432x288 with 1 Axes>"
            ]
          },
          "metadata": {
            "tags": []
          }
        },
        {
          "output_type": "stream",
          "text": [
            "[3.1737716e-08 9.9999845e-01 1.8780705e-07 3.5645137e-10 8.7944392e-07\n",
            " 1.3715460e-07 1.0076188e-07 2.5402247e-07 1.2714915e-08 5.1824829e-09]\n",
            "1\n"
          ],
          "name": "stdout"
        },
        {
          "output_type": "display_data",
          "data": {
            "image/png": "[encoded data removed]",
            "text/plain": [
              "<Figure size 432x288 with 1 Axes>"
            ]
          },
          "metadata": {
            "tags": []
          }
        },
        {
          "output_type": "stream",
          "text": [
            "[9.9999475e-01 8.0191157e-14 7.1541084e-10 5.4299815e-10 2.9075560e-11\n",
            " 1.8684611e-07 4.1230724e-06 2.8440065e-12 1.3993926e-09 7.8956469e-07]\n",
            "0\n"
          ],
          "name": "stdout"
        },
        {
          "output_type": "display_data",
          "data": {
            "image/png": "[encoded data removed]",
            "text/plain": [
              "<Figure size 432x288 with 1 Axes>"
            ]
          },
          "metadata": {
            "tags": []
          }
        },
        {
          "output_type": "stream",
          "text": [
            "[4.1616331e-13 7.0042028e-10 9.7833183e-12 9.0464637e-13 9.9997270e-01\n",
            " 2.3970310e-11 2.1092151e-12 2.0696420e-09 1.2515734e-10 2.7306565e-05]\n",
            "4\n"
          ],
          "name": "stdout"
        },
        {
          "output_type": "display_data",
          "data": {
            "image/png": "[encoded data removed]",
            "text/plain": [
              "<Figure size 432x288 with 1 Axes>"
            ]
          },
          "metadata": {
            "tags": []
          }
        },
        {
          "output_type": "stream",
          "text": [
            "[1.9020499e-08 9.9999952e-01 5.8758591e-08 1.4363731e-11 2.8042569e-08\n",
            " 1.0072500e-09 1.8098454e-09 3.6831767e-07 1.6706757e-09 9.0628505e-10]\n",
            "1\n"
          ],
          "name": "stdout"
        },
        {
          "output_type": "display_data",
          "data": {
            "image/png": "[encoded data removed]",
            "text/plain": [
              "<Figure size 432x288 with 1 Axes>"
            ]
          },
          "metadata": {
            "tags": []
          }
        },
        {
          "output_type": "stream",
          "text": [
            "[8.9574642e-14 7.6414487e-08 6.7379169e-10 1.0993527e-08 9.9998188e-01\n",
            " 4.3794729e-10 2.7509486e-13 1.3374722e-05 2.9221560e-06 1.6722810e-06]\n",
            "4\n"
          ],
          "name": "stdout"
        },
        {
          "output_type": "display_data",
          "data": {
            "image/png": "[encoded data removed]",
            "text/plain": [
              "<Figure size 432x288 with 1 Axes>"
            ]
          },
          "metadata": {
            "tags": []
          }
        },
        {
          "output_type": "stream",
          "text": [
            "[1.06988451e-09 8.53103188e-07 1.15452316e-07 2.20252400e-06\n",
            " 8.20247660e-05 8.19905908e-05 7.14302298e-11 1.67953846e-08\n",
            " 1.88794475e-05 9.99813974e-01]\n",
            "9\n"
          ],
          "name": "stdout"
        },
        {
          "output_type": "display_data",
          "data": {
            "image/png": "[encoded data removed]",
            "text/plain": [
              "<Figure size 432x288 with 1 Axes>"
            ]
          },
          "metadata": {
            "tags": []
          }
        },
        {
          "output_type": "stream",
          "text": [
            "[1.4562059e-08 2.9021933e-08 1.0058506e-08 2.3138422e-09 7.5439266e-07\n",
            " 9.9848783e-01 1.2843788e-03 1.3175876e-10 1.1054792e-04 1.1648848e-04]\n",
            "5\n"
          ],
          "name": "stdout"
        },
        {
          "output_type": "display_data",
          "data": {
            "image/png": "[encoded data removed]",
            "text/plain": [
              "<Figure size 432x288 with 1 Axes>"
            ]
          },
          "metadata": {
            "tags": []
          }
        },
        {
          "output_type": "stream",
          "text": [
            "[2.2087565e-16 1.2606138e-12 1.1537326e-12 4.3288995e-09 1.1789338e-05\n",
            " 1.1755610e-09 2.7587135e-18 3.4024197e-07 1.7221250e-08 9.9998784e-01]\n",
            "9\n"
          ],
          "name": "stdout"
        },
        {
          "output_type": "display_data",
          "data": {
            "image/png": "[encoded data removed]",
            "text/plain": [
              "<Figure size 432x288 with 1 Axes>"
            ]
          },
          "metadata": {
            "tags": []
          }
        }
      ]
    },
    {
      "cell_type": "code",
      "metadata": {
        "id": "YedfuAr0GDs8",
        "colab_type": "code",
        "colab": {}
      },
      "source": [
        "var=[0,0,0,0,0,0,0,0,0,0,0,0,0,0,0,0,0,0,0,0,0,0,0,0,0,0,0,0,0,0,0,0,0,0,0,0,0,0,0,0,0,0,0,0,0.1843137254901961,0.12549019607843137,0,0,0,0,0,0,0,0,0,0,0,0,0,0,0,0,0,0,0,0,0,0,0,0,0.3137254901960784,1,1,1,0.6078431372549019,0,0,0,0,0,0,0,0,0,0,0,0,0,0,0,0,0,0,0,0,0,0,0.7294117647058823,1,1,1,1,0.43529411764705883,0,0,0,0,0,0,0,0,0,0,0,0,0,0,0,0,0,0,0,0,0.5843137254901961,1,1,1,1,0.9372549019607843,0,0,0,0,0,0,0,0,0,0,0,0,0,0,0,0,0,0,0,0,0,1,1,1,1,1,0.7686274509803922,0,0,0,0,0,0,0,0,0,0,0,0,0,0,0,0,0,0,0,0,0,1,1,1,1,1,0,0,0,0,0,0,0,0,0,0,0,0,0,0,0,0,0,0,0,0,0,0,0,1,1,1,0,0,0,0,0,0,0,0,0,0,0,0,0,0,0,0,0,0,0,0,0,0,0,0,1,1,1,0.996078431372549,1,1,1,1,1,0.8823529411764706,0,0,0,0,0,0,0,0,0,0,0,0,0,0,0,0,0,1,1,1,1,1,1,1,1,1,1,1,1,1,0,0,0,0,0,0,0,0,0,0,0,0,0,0,0,1,1,1,1,1,1,1,1,1,1,1,1,1,1,0,0,0,0,0,0,0,0,0,0,0,0,0,0,1,1,1,1,0.09411764705882353,0,0,0,0,0,0.788235294117647,1,1,1,0,0,0,0,0,0,0,0,0,0,0,0,0,0,1,1,1,0.5137254901960784,0,0,0,0,0,0,0,0.13725490196078433,1,1,0.9647058823529412,0,0,0,0,0,0,0,0,0,0,0,0,0,1,1,0.9725490196078431,0,0,0,0,0,0,0,0,0,1,1,1,0,0,0,0,0,0,0,0,0,0,0,0,0,1,1,0,0,0,0,0,0,0,0,0,0,0.6392156862745098,1,1,1,0,0,0,0,0,0,0,0,0,0,0,0,1,1,0,0,0,0,0,0,0,0,0,0,0,1,1,1,0,0,0,0,0,0,0,0,0,0,0,0,1,1,0.7686274509803922,0,0,0,0,0,0,0,0,0,0,1,1,1,0,0,0,0,0,0,0,0,0,0,0,0,1,1,1,0,0,0,0,0,0,0,0,0,0.807843137254902,1,1,1,0,0,0,0,0,0,0,0,0,0,0,0,0.9333333333333333,1,1,1,1,0,0,0,0,0,0,0,1,1,1,0,0,0,0,0,0,0,0,0,0,0,0,0,0,1,1,1,1,1,1,0.3058823529411765,0,0,0,1,1,1,0.9921568627450981,0,0,0,0,0,0,0,0,0,0,0,0,0,0,0,0.10588235294117647,1,1,1,1,1,0.9921568627450981,0.2823529411764706,1,1,1,1,0,0,0,0,0,0,0,0,0,0,0,0,0,0,0,0,0,0,0,1,1,1,1,1,1,1,1,0,0,0,0,0,0,0,0,0,0,0,0,0,0,0,0,0,0,0,0,0,0,1,1,1,1,0.996078431372549,0,0,0,0,0,0,0,0,0,0,0,0,0,0,0,0,0,0,0,0,0,0,0,0,0,0,0,0,0,0,0,0,0,0,0,0,0,0,0,0,0,0,0,0,0,0,0,0,0,0,0,0,0,0,0,0,0,0,0,0,0,0,0,0,0,0,0,0,0,0,0,0,0,0,0,0,0,0,0,0,0,0,0,0,0,0,0,0,0,0,0,0,0,0,0,0,0,0,0,0,0,0,0,0,0,0,0,0,0,0,0,0,0,0,0,0,0,0,0,0,0,0,0,0,0,0,0,0,0,0,0,0,0,0,0,0,0,0,0,0,0,0,0,0,0,0,0,0,0]"
      ],
      "execution_count": 0,
      "outputs": []
    },
    {
      "cell_type": "code",
      "metadata": {
        "id": "_RJh_b8UGHg0",
        "colab_type": "code",
        "outputId": "5e226b38-0f39-45a5-d08a-556873f0fdb1",
        "colab": {
          "base_uri": "https://localhost:8080/",
          "height": 286
        }
      },
      "source": [
        "variable=np.array(var).reshape(1,28,28)\n",
        "if tf.keras.backend.image_data_format() == 'channels_first':\n",
        "    variable = variable.reshape(variable.shape[0], 1, variable.shape[1],variable.shape[2])\n",
        "else:\n",
        "    variable = variable.reshape(variable.shape[0], variable.shape[1],variable.shape[2], 1)\n",
        "plt.imshow(variable.reshape(28,28),cmap='binary')\n",
        "plt.show()\n",
        "pred=model.predict(variable)\n",
        "p=np.argmax(pred)\n",
        "print(p)"
      ],
      "execution_count": 0,
      "outputs": [
        {
          "output_type": "display_data",
          "data": {
            "image/png": "[encoded data removed]",
            "text/plain": [
              "<Figure size 432x288 with 1 Axes>"
            ]
          },
          "metadata": {
            "tags": []
          }
        },
        {
          "output_type": "stream",
          "text": [
            "0\n"
          ],
          "name": "stdout"
        }
      ]
    },
    {
      "cell_type": "code",
      "metadata": {
        "id": "Ee5fBfgoo7Us",
        "colab_type": "code",
        "colab": {}
      },
      "source": [
        "# !pip3 install tensorflowjs \n",
        "# !mkdir model\n",
        "# model.save('conv.h5')\n",
        "# !ls\n",
        "# !tensorflowjs_converter --input_format keras \\conv.h5 \\model\n",
        "# !zip -r model.zip model \n",
        "# !ls -l\n",
        "# from google.colab import files\n",
        "# files.download('model.zip')"
      ],
      "execution_count": 0,
      "outputs": []
    },
    {
      "cell_type": "code",
      "metadata": {
        "id": "i4UJWHNPGWiu",
        "colab_type": "code",
        "colab": {}
      },
      "source": [
        "# !pip install -U -q PyDrive\n",
        "# from pydrive.auth import GoogleAuth\n",
        "# from pydrive.drive import GoogleDrive\n",
        "# from google.colab import auth\n",
        "# from oauth2client.client import GoogleCredentials\n",
        "\n",
        "# # 1. Authenticate and create the PyDrive client.\n",
        "# auth.authenticate_user()\n",
        "# gauth = GoogleAuth()\n",
        "# gauth.credentials = GoogleCredentials.get_application_default()\n",
        "# drive = GoogleDrive(gauth)\n",
        "\n",
        "# # 2. Save Keras Model or weights on google drive\n",
        "# # create on Colab directory  \n",
        "# model_str = drive.CreateFile({'title' : 'convDigitRecognition.json'})\n",
        "# model_str.SetContentFile('convDigitRecognition.json')\n",
        "# model_file = drive.CreateFile({'title' : 'convDigitRecognition.h5'})\n",
        "# model_file.SetContentFile('convDigitRecognition.h5')\n",
        "# model_file.Upload()\n",
        "# model_str.Upload()\n",
        "\n",
        "# # download to google drive\n",
        "# drive.CreateFile({'m_id': model_file.get('id'),'j_id': model_str.get('id')})"
      ],
      "execution_count": 0,
      "outputs": []
    }
  ]
}